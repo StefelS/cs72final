{
  "cells": [
    {
      "cell_type": "markdown",
      "metadata": {
        "id": "fXcge0wSzBb6"
      },
      "source": [
        "# Final Project: Phonetic Similarity\n",
        "Abigail Kayser (abigail.e.kayser.24@dartmouth.edu)<br>\n",
        "Dartmouth College, LING48, Spring 2023\n"
      ]
    },
    {
      "cell_type": "code",
      "execution_count": 12,
      "metadata": {},
      "outputs": [
        {
          "name": "stderr",
          "output_type": "stream",
          "text": [
            "[nltk_data] Downloading package cmudict to\n",
            "[nltk_data]     /Users/abbykayser/nltk_data...\n",
            "[nltk_data]   Package cmudict is already up-to-date!\n"
          ]
        },
        {
          "name": "stdout",
          "output_type": "stream",
          "text": [
            "cat 4 Perfect Match!\n",
            "bat 2 Rhymes!\n",
            "rat 2 Rhymes!\n",
            "hat 2 Rhymes!\n",
            "mat 2 Rhymes!\n",
            "had 1 \n"
          ]
        }
      ],
      "source": [
        "import nltk\n",
        "from nltk.corpus import cmudict\n",
        "\n",
        "# Load the CMU Pronouncing Dictionary\n",
        "nltk.download('cmudict')\n",
        "pronouncing_dict = cmudict.dict()\n",
        "\n",
        "# Function to calculate phonetic similarity between two words\n",
        "def calculate_phonetic_similarity(target_word, candidate_words):\n",
        "    # Check if the target word exists in the CMU Pronouncing Dictionary\n",
        "    if target_word.lower() not in pronouncing_dict:\n",
        "        print(\"Target word not found in CMU Pronouncing Dictionary.\")\n",
        "        return []\n",
        "\n",
        "    target_phonemes = pronouncing_dict[target_word.lower()]\n",
        "\n",
        "    similarity_scores = []\n",
        "    for candidate_word in candidate_words:\n",
        "        # Check if the candidate word exists in the CMU Pronouncing Dictionary\n",
        "        if candidate_word.lower() in pronouncing_dict:\n",
        "            candidate_phonemes = pronouncing_dict[candidate_word.lower()]\n",
        "            # Calculate the phonetic similarity using the intersection of phonemes\n",
        "            similarity_score = len(set(target_phonemes[0]) & set(candidate_phonemes[0]))\n",
        "            # Check for a perfect match\n",
        "            if target_phonemes == candidate_phonemes:\n",
        "                similarity_score = len(target_phonemes[0]) + 1  # Set a higher score for a perfect match\n",
        "                similarity_scores.append((candidate_word, similarity_score, \"Perfect Match!\"))\n",
        "            # Check for a rhyme\n",
        "            elif target_phonemes[0][-1:] == candidate_phonemes[0][-1:]:\n",
        "                similarity_scores.append((candidate_word, similarity_score, \"Rhymes!\"))\n",
        "            else:\n",
        "                similarity_scores.append((candidate_word, similarity_score, \"\"))\n",
        "        else:\n",
        "            similarity_scores.append((candidate_word, 0, \"\"))  # Assign a similarity score of 0 if candidate word not found\n",
        "\n",
        "    return similarity_scores\n",
        "\n",
        "# Example usage\n",
        "target_word = \"cat\"\n",
        "candidate_words = [\"bat\", \"rat\", \"hat\", \"mat\", \"had\", \"dog\", \"cat\"]\n",
        "\n",
        "similarity_scores = calculate_phonetic_similarity(target_word, candidate_words)\n",
        "\n",
        "# Sort the candidate words by their similarity score in descending order\n",
        "similarity_scores.sort(key=lambda x: x[1], reverse=True)\n",
        "\n",
        "# Print the candidate words and their similarity scores\n",
        "for candidate, score, note in similarity_scores:\n",
        "    if (score != 0):\n",
        "        print(candidate, score, note)\n"
      ]
    },
    {
      "cell_type": "code",
      "execution_count": 13,
      "metadata": {},
      "outputs": [
        {
          "name": "stdout",
          "output_type": "stream",
          "text": [
            "shot 2 Rhymes!\n",
            "It 2 Rhymes!\n",
            "hits 2 \n",
            "time 1 \n",
            "But 1 Rhymes!\n",
            "things 1 \n",
            "exciting 1 \n",
            "Got 1 Rhymes!\n",
            "night 1 Rhymes!\n",
            "Wasted 1 \n",
            "This 1 \n",
            "counting 1 \n",
            "what 1 Rhymes!\n",
            "cynical 1 \n",
            "Atari 1 \n",
            "style 1 \n"
          ]
        }
      ],
      "source": [
        "# Example usage\n",
        "target_word = \"shit\"\n",
        "candidate_words = ['than', 'time', ',', 'I', 'dance', 'hours', 'But', 'shot', '...', \"'Cause\", '(', ')', 'things', 'they', 'now', 'And', 'gas', 'Ooh', 'So', 'It', 'exciting', 'song', 'Got', 'Sorry', 'love', 'Are', 'blue', 'you', 'Glasses', 'You', 'and', 'night', 'or', 'more', 'Then', 'Wasted', 'This', 'days', 'counting', 'Watch', 'what', 'Have', 'in', 'of', 'Oh', 'cynical', 'Atari', 'hits', 'style', '.']\n",
        "\n",
        "similarity_scores = calculate_phonetic_similarity(target_word, candidate_words)\n",
        "\n",
        "# Sort the candidate words by their similarity score in descending order\n",
        "similarity_scores.sort(key=lambda x: x[1], reverse=True)\n",
        "\n",
        "# Print the candidate words and their similarity scores\n",
        "for candidate, score, note in similarity_scores:\n",
        "    if (score != 0):\n",
        "        print(candidate, score, note)"
      ]
    },
    {
      "cell_type": "code",
      "execution_count": null,
      "metadata": {},
      "outputs": [],
      "source": []
    }
  ],
  "metadata": {
    "colab": {
      "collapsed_sections": [],
      "name": "hw4-ngram-template2.ipynb",
      "provenance": []
    },
    "kernelspec": {
      "display_name": "Python 3",
      "name": "python3"
    },
    "language_info": {
      "codemirror_mode": {
        "name": "ipython",
        "version": 3
      },
      "file_extension": ".py",
      "mimetype": "text/x-python",
      "name": "python",
      "nbconvert_exporter": "python",
      "pygments_lexer": "ipython3",
      "version": "3.9.7"
    }
  },
  "nbformat": 4,
  "nbformat_minor": 0
}
