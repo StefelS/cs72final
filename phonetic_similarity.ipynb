{
  "cells": [
    {
      "cell_type": "markdown",
      "metadata": {
        "id": "fXcge0wSzBb6"
      },
      "source": [
        "# Final Project: Phonetic Similarity\n",
        "Abigail Kayser (abigail.e.kayser.24@dartmouth.edu)<br>\n",
        "Dartmouth College, LING48, Spring 2023\n"
      ]
    },
    {
      "cell_type": "code",
      "execution_count": 31,
      "metadata": {},
      "outputs": [
        {
          "name": "stderr",
          "output_type": "stream",
          "text": [
            "[nltk_data] Downloading package cmudict to\n",
            "[nltk_data]     /Users/abbykayser/nltk_data...\n",
            "[nltk_data]   Package cmudict is already up-to-date!\n"
          ]
        },
        {
          "name": "stdout",
          "output_type": "stream",
          "text": [
            "bat 2 Rhymes!\n",
            "rat 2 Rhymes!\n",
            "hat 2 Rhymes!\n",
            "mat 2 Rhymes!\n",
            "had 1 \n"
          ]
        }
      ],
      "source": [
        "import nltk\n",
        "from nltk.corpus import cmudict\n",
        "import pronouncing\n",
        "\n",
        "# Load the CMU Pronouncing Dictionary\n",
        "nltk.download('cmudict')\n",
        "pronouncing_dict = cmudict.dict()\n",
        "\n",
        "# Function to calculate phonetic similarity between two words\n",
        "def calculate_phonetic_similarity(target_word, candidate_words):\n",
        "    similarity_scores = []\n",
        "    \n",
        "    # Load the CMU Pronouncing Dictionary\n",
        "    pronouncing_dict = cmudict.dict()\n",
        "    \n",
        "    # Check if the target word exists in the CMU Pronouncing Dictionary\n",
        "    if target_word.lower() not in pronouncing_dict:\n",
        "        print(\"Target word not found in CMU Pronouncing Dictionary.\")\n",
        "        return similarity_scores\n",
        "    \n",
        "    target_phonemes = pronouncing_dict[target_word.lower()][0]\n",
        "    \n",
        "    for candidate_word in candidate_words:\n",
        "        # Check if the candidate word exists in the CMU Pronouncing Dictionary\n",
        "        if candidate_word.lower() in pronouncing_dict:\n",
        "            candidate_phonemes = pronouncing_dict[candidate_word.lower()][0]\n",
        "            # Calculate the phonetic similarity using the intersection of phonemes\n",
        "            similarity_score = len(set(target_phonemes) & set(candidate_phonemes))\n",
        "            if candidate_word in pronouncing.rhymes(target_word):\n",
        "                similarity_scores.append((candidate_word, similarity_score, \"Rhymes!\"))\n",
        "            else:\n",
        "                similarity_scores.append((candidate_word, similarity_score, \"\"))\n",
        "        else:\n",
        "            similarity_scores.append((candidate_word, 0, \"\"))  # Assign a similarity score of 0 if candidate word not found\n",
        "    \n",
        "    return similarity_scores\n",
        "\n",
        "\n",
        "# Example usage\n",
        "target_word = \"cat\"\n",
        "candidate_words = [\"bat\", \"rat\", \"hat\", \"mat\", \"had\", \"dog\"]\n",
        "\n",
        "similarity_scores = calculate_phonetic_similarity(target_word, candidate_words)\n",
        "\n",
        "# Sort the candidate words by their similarity score in descending order\n",
        "similarity_scores.sort(key=lambda x: x[1], reverse=True)\n",
        "\n",
        "# Print the candidate words and their similarity scores\n",
        "for candidate, score, note in similarity_scores:\n",
        "    if (score != 0):\n",
        "        print(candidate, score, note)\n"
      ]
    },
    {
      "cell_type": "code",
      "execution_count": 32,
      "metadata": {},
      "outputs": [
        {
          "name": "stdout",
          "output_type": "stream",
          "text": [
            "shot 2 \n",
            "It 2 \n",
            "hits 2 \n",
            "time 1 \n",
            "But 1 \n",
            "things 1 \n",
            "exciting 1 \n",
            "Got 1 \n",
            "night 1 \n",
            "Wasted 1 \n",
            "This 1 \n",
            "counting 1 \n",
            "what 1 \n",
            "cynical 1 \n",
            "Atari 1 \n",
            "style 1 \n",
            "seats 1 \n",
            "frustrated 1 \n",
            "try 1 \n",
            "She 1 \n",
            "she 1 \n",
            "let 1 \n",
            "smart 1 \n",
            "messed 1 \n",
            "to 1 \n"
          ]
        }
      ],
      "source": [
        "# Example usage\n",
        "target_word = \"shit\"\n",
        "candidate_words = ['than', 'time', ',', 'I', 'dance', 'hours', 'But', 'shot', '...', \"'Cause\", '(', ')', 'things', 'they', 'now', 'And', 'gas', 'Ooh', 'So', 'It', 'exciting', 'song', 'Got', 'Sorry', 'love', 'Are', 'blue', 'you', 'Glasses', 'You', 'and', 'night', 'or', 'more', 'Then', 'Wasted', 'This', 'days', 'counting', 'Watch', 'what', 'Have', 'in', 'of', 'Oh', 'cynical', 'Atari', 'hits', 'style', '.', 'People', 'seats', 'frustrated', 'famous', 'Than', 'Said', 'Keep', 'try', 'She', 'she', 'Run', 'air', 'every', 'let', 'can', '?', 'Someone', 'like', 'smart', 'messed', 'Well', 'to']\n",
        "\n",
        "similarity_scores = calculate_phonetic_similarity(target_word, candidate_words)\n",
        "\n",
        "# Sort the candidate words by their similarity score in descending order\n",
        "similarity_scores.sort(key=lambda x: x[1], reverse=True)\n",
        "\n",
        "# Print the candidate words and their similarity scores\n",
        "for candidate, score, note in similarity_scores:\n",
        "    if (score != 0):\n",
        "        print(candidate, score, note)"
      ]
    },
    {
      "cell_type": "code",
      "execution_count": 2,
      "metadata": {},
      "outputs": [
        {
          "name": "stdout",
          "output_type": "stream",
          "text": [
            "Collecting pronouncing\n",
            "  Downloading pronouncing-0.2.0.tar.gz (17 kB)\n",
            "  Preparing metadata (setup.py) ... \u001b[?25ldone\n",
            "\u001b[?25hCollecting cmudict>=0.4.0\n",
            "  Downloading cmudict-1.0.13-py3-none-any.whl (939 kB)\n",
            "\u001b[2K     \u001b[90m━━━━━━━━━━━━━━━━━━━━━━━━━━━━━━━━━━━━━━\u001b[0m \u001b[32m939.3/939.3 kB\u001b[0m \u001b[31m14.4 MB/s\u001b[0m eta \u001b[36m0:00:00\u001b[0m\n",
            "\u001b[?25hCollecting importlib-resources<6.0.0,>=5.10.1\n",
            "  Downloading importlib_resources-5.12.0-py3-none-any.whl (36 kB)\n",
            "Collecting importlib-metadata<6.0.0,>=5.1.0\n",
            "  Downloading importlib_metadata-5.2.0-py3-none-any.whl (21 kB)\n",
            "Requirement already satisfied: zipp>=0.5 in /Users/abbykayser/opt/anaconda3/lib/python3.9/site-packages (from importlib-metadata<6.0.0,>=5.1.0->cmudict>=0.4.0->pronouncing) (3.6.0)\n",
            "Building wheels for collected packages: pronouncing\n",
            "  Building wheel for pronouncing (setup.py) ... \u001b[?25ldone\n",
            "\u001b[?25h  Created wheel for pronouncing: filename=pronouncing-0.2.0-py2.py3-none-any.whl size=6252 sha256=6bb30736a7e2bd964b293113d188cf6d31a1bafd8f7f0156017bf329c1f48dea\n",
            "  Stored in directory: /Users/abbykayser/Library/Caches/pip/wheels/ee/d4/c2/fb8c0e2009b75358874506ff2ce1ee79370b6ef5cf08922206\n",
            "Successfully built pronouncing\n",
            "Installing collected packages: importlib-resources, importlib-metadata, cmudict, pronouncing\n",
            "  Attempting uninstall: importlib-metadata\n",
            "    Found existing installation: importlib-metadata 4.8.1\n",
            "    Uninstalling importlib-metadata-4.8.1:\n",
            "      Successfully uninstalled importlib-metadata-4.8.1\n",
            "Successfully installed cmudict-1.0.13 importlib-metadata-5.2.0 importlib-resources-5.12.0 pronouncing-0.2.0\n",
            "Note: you may need to restart the kernel to use updated packages.\n"
          ]
        }
      ],
      "source": [
        "pip install pronouncing"
      ]
    },
    {
      "cell_type": "code",
      "execution_count": 33,
      "metadata": {},
      "outputs": [
        {
          "name": "stdout",
          "output_type": "stream",
          "text": [
            "No rhymes were found from the dataset. Try any of these instead!\n",
            "['adhere', 'alvear', 'amir', 'amir', 'appear', 'auctioneer', 'austere', 'bahir', 'bandolier', 'bashir', 'bassir', 'beare', 'bebear', 'belvedere', 'belvedere', 'bere', 'bioengineer', 'bombardier', 'briere', 'brigadeer', 'brigadier', 'budgeteer', 'career', 'casebeer', 'casebeer', 'cashier', 'cavalier', 'chachere', 'chandelier', 'charpentier', 'cheer', 'chevalier', 'chusmir', 'clear', 'cleere', 'cohere', 'commandeer', 'conventioneer', 'crear', 'creer', 'crochetiere', 'cyr', 'davir', 'dear', 'deer', 'deere', 'desir', 'disappear', 'domineer', 'dornier', 'dubilier', 'dyneer', 'dyneer', 'ear', 'electioneer', 'emir', 'emir', 'engineer', 'exovir', 'fear', 'fier', 'financier', 'financier', 'financiere', 'fleer', 'four-year', 'frear', 'freire', 'frere', 'frontier', 'gear', 'geer', 'gere', 'gier', 'giere', 'gondolier', 'grear', 'greer', 'guinier', 'imagineer', 'insincere', 'interfere', 'interfere', 'jeer', 'kamir', 'kear', 'kier', 'kir', 'kleer', 'kneer', 'lagardere', 'laimbeer', 'lanier', 'lazear', 'lear', 'marketeer', 'mateer', 'mclear', 'mcnear', 'mcneer', 'mcteer', 'mctier', 'mear', 'menear', 'mere', 'minear', 'minteer', 'mir', 'mutineer', 'myhre', 'near', 'neer', 'nir', \"o'lear\", 'olear', 'oneyear', 'orear', 'pamphleteer', 'peer', 'peer-to-peer', 'pelletier', 'persevere', 'pier', 'pioneer', 'plenmeer', 'premier', 'premier', 'premiere', 'profiteer', 'puryear', 'queer', 'racketeer', 'rainier', 'rayonier', 'reappear', 'rear', 'reengineer', 'rensselaer', 'revere', 'rosevear', 'sabir', 'safier', 'sameer', 'samir', 'samir', 'schear', 'scheer', 'schweer', 'sear', 'sere', 'severe', 'shamir', 'shear', 'sheer', 'shere', 'sincere', 'smear', 'sneer', 'souvenir', 'spear', 'speer', 'speir', 'sphere', 'st-cyr', 'st-cyr', 'stear', 'steer', 'steere', 'summiteer', 'tear', 'teer', 'termeer', 'unclear', 'vanleer', 'vanliere', 'veer', 'veneer', 'vere', 'volunteer', 'wagoneer', 'wazir', \"we're\", 'wier', 'yasir', 'year', 'zahir', 'zaire', 'zamfir', 'zegeer', 'zerr', 'zier']\n"
          ]
        }
      ],
      "source": [
        "import pronouncing\n",
        "target_word = \"beer\"\n",
        "candidate_words = ['to', 'a', 'fun', 'the', 'you', 'been', 'it', 'known', 'some', 'mercy', 'this', 'I', 'put', 'high', 'traveled', \"n't\", 'waited', 'Somebody', 'told', 'no', 'got', 'never', 'faith', 'changed', 'made', 'your', 'an', 'seen', 'any', 'one', 'That', 'all', 'said', 'done', ',', 'become', 'found', 'me', 'is', 'And', 'his', 'The', 'even', 'decided', 'ever', 'stayed', 'another', 'pain', 'sorrow', 'things', 'given', 'How', 'treated', 'history', '...', 'so', 'everything', 'ya', 'had', 'loved', '?', 'groupies', 'started', 'good', 'each', 'crossed', 'time', 'Like', 'For', 'what', 'held', 'let', 'fathomed', 'hands', 'my', 'digital', 'diddly']\n",
        "def strict_rhymes(target_word, candidate_words): \n",
        "    rhymes_from_ngram = []\n",
        "    rhymes = []\n",
        "\n",
        "    yes = \"wheeze\" in pronouncing.rhymes(\"cheese\")\n",
        "    for word in candidate_words:\n",
        "        if word in pronouncing.rhymes(target_word):\n",
        "            rhymes_from_ngram.append(word)\n",
        "\n",
        "    if len(rhymes_from_ngram) != 0:\n",
        "        print(\"Yay, there is one or more matching rhymes from the dataset! Try using:\")\n",
        "        print(rhymes_from_ngram)\n",
        "    else:\n",
        "        rhymes = pronouncing.rhymes(target_word)\n",
        "        print(\"No rhymes were found from the dataset. Try any of these instead!\")\n",
        "        print(rhymes)\n",
        "    return\n",
        "\n",
        "strict_rhymes(target_word, candidate_words)\n",
        "        "
      ]
    },
    {
      "cell_type": "code",
      "execution_count": 34,
      "metadata": {},
      "outputs": [
        {
          "name": "stdout",
          "output_type": "stream",
          "text": [
            "been 2 \n",
            "it 1 \n",
            "this 1 \n",
            "traveled 1 \n",
            "Somebody 1 \n",
            "your 1 \n",
            "become 1 \n",
            "is 1 \n",
            "his 1 \n",
            "sorrow 1 \n",
            "things 1 \n",
            "given 1 \n",
            "treated 1 \n",
            "history 1 \n",
            "everything 1 \n",
            "groupies 1 \n",
            "started 1 \n",
            "crossed 1 \n",
            "For 1 \n",
            "digital 1 \n"
          ]
        }
      ],
      "source": [
        "def give_phonetic_sim(target_word, candidate_words):\n",
        "    similarity_scores = calculate_phonetic_similarity(target_word, candidate_words)\n",
        "\n",
        "    # Sort the candidate words by their similarity score in descending order\n",
        "    similarity_scores.sort(key=lambda x: x[1], reverse=True)\n",
        "\n",
        "    # Print the candidate words and their similarity scores\n",
        "    for candidate, score, note in similarity_scores:\n",
        "        if (score != 0):\n",
        "            print(candidate, score, note)\n",
        "    return\n",
        "\n",
        "give_phonetic_sim(target_word, candidate_words)\n"
      ]
    },
    {
      "cell_type": "code",
      "execution_count": null,
      "metadata": {},
      "outputs": [],
      "source": []
    }
  ],
  "metadata": {
    "colab": {
      "collapsed_sections": [],
      "name": "hw4-ngram-template2.ipynb",
      "provenance": []
    },
    "kernelspec": {
      "display_name": "Python 3",
      "name": "python3"
    },
    "language_info": {
      "codemirror_mode": {
        "name": "ipython",
        "version": 3
      },
      "file_extension": ".py",
      "mimetype": "text/x-python",
      "name": "python",
      "nbconvert_exporter": "python",
      "pygments_lexer": "ipython3",
      "version": "3.9.7"
    }
  },
  "nbformat": 4,
  "nbformat_minor": 0
}
