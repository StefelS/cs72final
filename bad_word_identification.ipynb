{
  "cells": [
    {
      "cell_type": "markdown",
      "metadata": {
        "id": "fXcge0wSzBb6"
      },
      "source": [
        "# Final Project: Flagging bad words\n",
        "Abigail Kayser (abigail.e.kayser.24@dartmouth.edu)<br>\n",
        "Dartmouth College, LING48, Spring 2023\n"
      ]
    },
    {
      "cell_type": "code",
      "execution_count": 3,
      "metadata": {},
      "outputs": [],
      "source": [
        "import nltk\n",
        "from nltk.tokenize import word_tokenize\n",
        "import io"
      ]
    },
    {
      "cell_type": "code",
      "execution_count": 4,
      "metadata": {},
      "outputs": [],
      "source": [
        "# Open file\n",
        "with io.open('bad_words.txt', encoding='utf8') as file:\n",
        "    text = file.read()"
      ]
    },
    {
      "cell_type": "code",
      "execution_count": 5,
      "metadata": {},
      "outputs": [],
      "source": [
        "# Tokenize the bad words\n",
        "bad_words = word_tokenize(text)\n",
        "\n",
        "# Create a bag of words from the bad words\n",
        "bag_of_words = nltk.FreqDist(bad_words)\n",
        "\n",
        "# Function to flag bad words in a sentence\n",
        "def flag_bad_words(sentence):\n",
        "    tokens = word_tokenize(sentence)\n",
        "    flagged_words = [word for word in tokens if word.lower() in bag_of_words]\n",
        "    return flagged_words"
      ]
    },
    {
      "cell_type": "code",
      "execution_count": 6,
      "metadata": {},
      "outputs": [
        {
          "name": "stdout",
          "output_type": "stream",
          "text": [
            "No bad words found.\n",
            "Flagged words: ['shit', 'bar']\n"
          ]
        }
      ],
      "source": [
        "# Example usage\n",
        "sentence = \"This sentence is clean.\"\n",
        "flagged_words = flag_bad_words(sentence)\n",
        "if flagged_words:\n",
        "    print(\"Flagged words:\", flagged_words)\n",
        "else:\n",
        "    print(\"No bad words found.\")\n",
        "\n",
        "# Example usage\n",
        "sentence = \"This sentence contains some bad words like shit and bar.\"\n",
        "flagged_words = flag_bad_words(sentence)\n",
        "if flagged_words:\n",
        "    print(\"Flagged words:\", flagged_words)\n",
        "else:\n",
        "    print(\"No bad words found.\")\n"
      ]
    }
  ],
  "metadata": {
    "colab": {
      "collapsed_sections": [],
      "name": "hw4-ngram-template2.ipynb",
      "provenance": []
    },
    "kernelspec": {
      "display_name": "Python 3",
      "name": "python3"
    },
    "language_info": {
      "codemirror_mode": {
        "name": "ipython",
        "version": 3
      },
      "file_extension": ".py",
      "mimetype": "text/x-python",
      "name": "python",
      "nbconvert_exporter": "python",
      "pygments_lexer": "ipython3",
      "version": "3.9.7"
    }
  },
  "nbformat": 4,
  "nbformat_minor": 0
}
